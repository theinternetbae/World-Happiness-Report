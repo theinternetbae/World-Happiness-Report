{
 "cells": [
  {
   "cell_type": "markdown",
   "metadata": {},
   "source": [
    "Import module"
   ]
  },
  {
   "cell_type": "code",
   "execution_count": 73,
   "metadata": {},
   "outputs": [],
   "source": [
    "import pandas as pd\n",
    "import seaborn as sns; sns.set()\n",
    "import matplotlib.pyplot as plt\n",
    "import numpy as np\n",
    "\n",
    "%matplotlib inline"
   ]
  },
  {
   "cell_type": "markdown",
   "metadata": {},
   "source": [
    "loading dataset into pandas dataframe"
   ]
  },
  {
   "cell_type": "code",
   "execution_count": 36,
   "metadata": {},
   "outputs": [
    {
     "data": {
      "text/html": [
       "<div>\n",
       "<style scoped>\n",
       "    .dataframe tbody tr th:only-of-type {\n",
       "        vertical-align: middle;\n",
       "    }\n",
       "\n",
       "    .dataframe tbody tr th {\n",
       "        vertical-align: top;\n",
       "    }\n",
       "\n",
       "    .dataframe thead th {\n",
       "        text-align: right;\n",
       "    }\n",
       "</style>\n",
       "<table border=\"1\" class=\"dataframe\">\n",
       "  <thead>\n",
       "    <tr style=\"text-align: right;\">\n",
       "      <th></th>\n",
       "      <th>Country</th>\n",
       "      <th>Happiness.Rank</th>\n",
       "      <th>Happiness.Score</th>\n",
       "      <th>Whisker.high</th>\n",
       "      <th>Whisker.low</th>\n",
       "      <th>Economy..GDP.per.Capita.</th>\n",
       "      <th>Family</th>\n",
       "      <th>Health..Life.Expectancy.</th>\n",
       "      <th>Freedom</th>\n",
       "      <th>Generosity</th>\n",
       "      <th>Trust..Government.Corruption.</th>\n",
       "      <th>Dystopia.Residual</th>\n",
       "    </tr>\n",
       "  </thead>\n",
       "  <tbody>\n",
       "    <tr>\n",
       "      <th>0</th>\n",
       "      <td>Norway</td>\n",
       "      <td>1</td>\n",
       "      <td>7.537</td>\n",
       "      <td>7.594445</td>\n",
       "      <td>7.479556</td>\n",
       "      <td>1.616463</td>\n",
       "      <td>1.533524</td>\n",
       "      <td>0.796667</td>\n",
       "      <td>0.635423</td>\n",
       "      <td>0.362012</td>\n",
       "      <td>0.315964</td>\n",
       "      <td>2.277027</td>\n",
       "    </tr>\n",
       "    <tr>\n",
       "      <th>1</th>\n",
       "      <td>Denmark</td>\n",
       "      <td>2</td>\n",
       "      <td>7.522</td>\n",
       "      <td>7.581728</td>\n",
       "      <td>7.462272</td>\n",
       "      <td>1.482383</td>\n",
       "      <td>1.551122</td>\n",
       "      <td>0.792566</td>\n",
       "      <td>0.626007</td>\n",
       "      <td>0.355280</td>\n",
       "      <td>0.400770</td>\n",
       "      <td>2.313707</td>\n",
       "    </tr>\n",
       "    <tr>\n",
       "      <th>2</th>\n",
       "      <td>Iceland</td>\n",
       "      <td>3</td>\n",
       "      <td>7.504</td>\n",
       "      <td>7.622030</td>\n",
       "      <td>7.385970</td>\n",
       "      <td>1.480633</td>\n",
       "      <td>1.610574</td>\n",
       "      <td>0.833552</td>\n",
       "      <td>0.627163</td>\n",
       "      <td>0.475540</td>\n",
       "      <td>0.153527</td>\n",
       "      <td>2.322715</td>\n",
       "    </tr>\n",
       "    <tr>\n",
       "      <th>3</th>\n",
       "      <td>Switzerland</td>\n",
       "      <td>4</td>\n",
       "      <td>7.494</td>\n",
       "      <td>7.561772</td>\n",
       "      <td>7.426227</td>\n",
       "      <td>1.564980</td>\n",
       "      <td>1.516912</td>\n",
       "      <td>0.858131</td>\n",
       "      <td>0.620071</td>\n",
       "      <td>0.290549</td>\n",
       "      <td>0.367007</td>\n",
       "      <td>2.276716</td>\n",
       "    </tr>\n",
       "    <tr>\n",
       "      <th>4</th>\n",
       "      <td>Finland</td>\n",
       "      <td>5</td>\n",
       "      <td>7.469</td>\n",
       "      <td>7.527542</td>\n",
       "      <td>7.410458</td>\n",
       "      <td>1.443572</td>\n",
       "      <td>1.540247</td>\n",
       "      <td>0.809158</td>\n",
       "      <td>0.617951</td>\n",
       "      <td>0.245483</td>\n",
       "      <td>0.382612</td>\n",
       "      <td>2.430182</td>\n",
       "    </tr>\n",
       "  </tbody>\n",
       "</table>\n",
       "</div>"
      ],
      "text/plain": [
       "       Country  Happiness.Rank  Happiness.Score  Whisker.high  Whisker.low  \\\n",
       "0       Norway               1            7.537      7.594445     7.479556   \n",
       "1      Denmark               2            7.522      7.581728     7.462272   \n",
       "2      Iceland               3            7.504      7.622030     7.385970   \n",
       "3  Switzerland               4            7.494      7.561772     7.426227   \n",
       "4      Finland               5            7.469      7.527542     7.410458   \n",
       "\n",
       "   Economy..GDP.per.Capita.    Family  Health..Life.Expectancy.   Freedom  \\\n",
       "0                  1.616463  1.533524                  0.796667  0.635423   \n",
       "1                  1.482383  1.551122                  0.792566  0.626007   \n",
       "2                  1.480633  1.610574                  0.833552  0.627163   \n",
       "3                  1.564980  1.516912                  0.858131  0.620071   \n",
       "4                  1.443572  1.540247                  0.809158  0.617951   \n",
       "\n",
       "   Generosity  Trust..Government.Corruption.  Dystopia.Residual  \n",
       "0    0.362012                       0.315964           2.277027  \n",
       "1    0.355280                       0.400770           2.313707  \n",
       "2    0.475540                       0.153527           2.322715  \n",
       "3    0.290549                       0.367007           2.276716  \n",
       "4    0.245483                       0.382612           2.430182  "
      ]
     },
     "execution_count": 36,
     "metadata": {},
     "output_type": "execute_result"
    }
   ],
   "source": [
    "df = pd.read_csv('../2017.csv', sep=',')\n",
    "df.head()"
   ]
  },
  {
   "cell_type": "code",
   "execution_count": 37,
   "metadata": {},
   "outputs": [
    {
     "name": "stdout",
     "output_type": "stream",
     "text": [
      "<class 'pandas.core.frame.DataFrame'>\n",
      "RangeIndex: 155 entries, 0 to 154\n",
      "Data columns (total 12 columns):\n",
      "Country                          155 non-null object\n",
      "Happiness.Rank                   155 non-null int64\n",
      "Happiness.Score                  155 non-null float64\n",
      "Whisker.high                     155 non-null float64\n",
      "Whisker.low                      155 non-null float64\n",
      "Economy..GDP.per.Capita.         155 non-null float64\n",
      "Family                           155 non-null float64\n",
      "Health..Life.Expectancy.         155 non-null float64\n",
      "Freedom                          155 non-null float64\n",
      "Generosity                       155 non-null float64\n",
      "Trust..Government.Corruption.    155 non-null float64\n",
      "Dystopia.Residual                155 non-null float64\n",
      "dtypes: float64(10), int64(1), object(1)\n",
      "memory usage: 14.6+ KB\n"
     ]
    }
   ],
   "source": [
    "df.info()"
   ]
  },
  {
   "cell_type": "code",
   "execution_count": 38,
   "metadata": {},
   "outputs": [
    {
     "data": {
      "text/plain": [
       "155"
      ]
     },
     "execution_count": 38,
     "metadata": {},
     "output_type": "execute_result"
    }
   ],
   "source": [
    "len(list(df.Country))"
   ]
  },
  {
   "cell_type": "markdown",
   "metadata": {},
   "source": [
    "get asean countries from the dataset"
   ]
  },
  {
   "cell_type": "code",
   "execution_count": 157,
   "metadata": {},
   "outputs": [],
   "source": [
    "indonesia = df.iloc[df.index[df[\"Country\"] == \"Indonesia\"]].drop(['Whisker.high', 'Whisker.low', 'Happiness.Rank', 'Family', 'Generosity', 'Dystopia.Residual'], axis=1)\n",
    "thailand = df.iloc[df.index[df[\"Country\"] == \"Thailand\"]].drop(['Whisker.high', 'Whisker.low', 'Happiness.Rank', 'Family', 'Generosity', 'Dystopia.Residual'], axis=1)\n",
    "malaysia = df.iloc[df.index[df[\"Country\"] == \"Malaysia\"]].drop(['Whisker.high', 'Whisker.low', 'Happiness.Rank', 'Family', 'Generosity', 'Dystopia.Residual'], axis=1)\n",
    "singapore = df.iloc[df.index[df[\"Country\"] == \"Singapore\"]].drop(['Whisker.high', 'Whisker.low', 'Happiness.Rank', 'Family', 'Generosity', 'Dystopia.Residual'], axis=1)\n",
    "philippines = df.iloc[df.index[df[\"Country\"] == \"philippines\"]].drop(['Whisker.high', 'Whisker.low', 'Happiness.Rank', 'Family', 'Generosity', 'Dystopia.Residual'], axis=1)\n",
    "vietnam = df.iloc[df.index[df[\"Country\"] == \"Vietnam\"]].drop(['Whisker.high', 'Whisker.low', 'Happiness.Rank', 'Family', 'Generosity', 'Dystopia.Residual'], axis=1)\n",
    "myanmar = df.iloc[df.index[df[\"Country\"] == \"Myanmar\"]].drop(['Whisker.high', 'Whisker.low', 'Happiness.Rank', 'Family', 'Generosity', 'Dystopia.Residual'], axis=1)\n",
    "cambodia = df.iloc[df.index[df[\"Country\"] == \"Cambodia\"]].drop(['Whisker.high', 'Whisker.low', 'Happiness.Rank', 'Family', 'Generosity', 'Dystopia.Residual'], axis=1)\n",
    "laos = df.iloc[df.index[df[\"Country\"] == \"Laos\"]].drop(['Whisker.high', 'Whisker.low', 'Happiness.Rank', 'Family', 'Generosity', 'Dystopia.Residual'], axis=1)\n",
    "brunei = df.iloc[df.index[df[\"Country\"] == \"Brunei\"]].drop(['Whisker.high', 'Whisker.low', 'Happiness.Rank', 'Family', 'Generosity', 'Dystopia.Residual'], axis=1)"
   ]
  },
  {
   "cell_type": "markdown",
   "metadata": {},
   "source": [
    "concatenating into asean dataframe"
   ]
  },
  {
   "cell_type": "code",
   "execution_count": 122,
   "metadata": {},
   "outputs": [
    {
     "data": {
      "text/html": [
       "<div>\n",
       "<style scoped>\n",
       "    .dataframe tbody tr th:only-of-type {\n",
       "        vertical-align: middle;\n",
       "    }\n",
       "\n",
       "    .dataframe tbody tr th {\n",
       "        vertical-align: top;\n",
       "    }\n",
       "\n",
       "    .dataframe thead th {\n",
       "        text-align: right;\n",
       "    }\n",
       "</style>\n",
       "<table border=\"1\" class=\"dataframe\">\n",
       "  <thead>\n",
       "    <tr style=\"text-align: right;\">\n",
       "      <th></th>\n",
       "      <th>Country</th>\n",
       "      <th>Happiness.Score</th>\n",
       "      <th>Economy..GDP.per.Capita.</th>\n",
       "      <th>Health..Life.Expectancy.</th>\n",
       "      <th>Freedom</th>\n",
       "      <th>Trust..Government.Corruption.</th>\n",
       "    </tr>\n",
       "  </thead>\n",
       "  <tbody>\n",
       "    <tr>\n",
       "      <th>31</th>\n",
       "      <td>Thailand</td>\n",
       "      <td>6.424</td>\n",
       "      <td>1.127869</td>\n",
       "      <td>0.647239</td>\n",
       "      <td>0.580201</td>\n",
       "      <td>0.031613</td>\n",
       "    </tr>\n",
       "    <tr>\n",
       "      <th>80</th>\n",
       "      <td>Indonesia</td>\n",
       "      <td>5.262</td>\n",
       "      <td>0.995539</td>\n",
       "      <td>0.492346</td>\n",
       "      <td>0.443323</td>\n",
       "      <td>0.015317</td>\n",
       "    </tr>\n",
       "    <tr>\n",
       "      <th>41</th>\n",
       "      <td>Malaysia</td>\n",
       "      <td>6.084</td>\n",
       "      <td>1.291215</td>\n",
       "      <td>0.618784</td>\n",
       "      <td>0.402265</td>\n",
       "      <td>0.065601</td>\n",
       "    </tr>\n",
       "    <tr>\n",
       "      <th>25</th>\n",
       "      <td>Singapore</td>\n",
       "      <td>6.572</td>\n",
       "      <td>1.692278</td>\n",
       "      <td>0.949492</td>\n",
       "      <td>0.549841</td>\n",
       "      <td>0.464308</td>\n",
       "    </tr>\n",
       "    <tr>\n",
       "      <th>93</th>\n",
       "      <td>Vietnam</td>\n",
       "      <td>5.074</td>\n",
       "      <td>0.788548</td>\n",
       "      <td>0.652169</td>\n",
       "      <td>0.571056</td>\n",
       "      <td>0.087633</td>\n",
       "    </tr>\n",
       "    <tr>\n",
       "      <th>113</th>\n",
       "      <td>Myanmar</td>\n",
       "      <td>4.545</td>\n",
       "      <td>0.367111</td>\n",
       "      <td>0.397523</td>\n",
       "      <td>0.514492</td>\n",
       "      <td>0.188816</td>\n",
       "    </tr>\n",
       "    <tr>\n",
       "      <th>128</th>\n",
       "      <td>Cambodia</td>\n",
       "      <td>4.168</td>\n",
       "      <td>0.601765</td>\n",
       "      <td>0.429783</td>\n",
       "      <td>0.633376</td>\n",
       "      <td>0.068106</td>\n",
       "    </tr>\n",
       "  </tbody>\n",
       "</table>\n",
       "</div>"
      ],
      "text/plain": [
       "       Country  Happiness.Score  Economy..GDP.per.Capita.  \\\n",
       "31    Thailand            6.424                  1.127869   \n",
       "80   Indonesia            5.262                  0.995539   \n",
       "41    Malaysia            6.084                  1.291215   \n",
       "25   Singapore            6.572                  1.692278   \n",
       "93     Vietnam            5.074                  0.788548   \n",
       "113    Myanmar            4.545                  0.367111   \n",
       "128   Cambodia            4.168                  0.601765   \n",
       "\n",
       "     Health..Life.Expectancy.   Freedom  Trust..Government.Corruption.  \n",
       "31                   0.647239  0.580201                       0.031613  \n",
       "80                   0.492346  0.443323                       0.015317  \n",
       "41                   0.618784  0.402265                       0.065601  \n",
       "25                   0.949492  0.549841                       0.464308  \n",
       "93                   0.652169  0.571056                       0.087633  \n",
       "113                  0.397523  0.514492                       0.188816  \n",
       "128                  0.429783  0.633376                       0.068106  "
      ]
     },
     "execution_count": 122,
     "metadata": {},
     "output_type": "execute_result"
    }
   ],
   "source": [
    "mydata = pd.concat([thailand, indonesia, malaysia, singapore, philippines, vietnam, myanmar, cambodia, laos, brunei])\n",
    "mydata"
   ]
  },
  {
   "cell_type": "markdown",
   "metadata": {},
   "source": [
    "droping some columns"
   ]
  },
  {
   "cell_type": "code",
   "execution_count": 143,
   "metadata": {},
   "outputs": [
    {
     "data": {
      "text/html": [
       "<div>\n",
       "<style scoped>\n",
       "    .dataframe tbody tr th:only-of-type {\n",
       "        vertical-align: middle;\n",
       "    }\n",
       "\n",
       "    .dataframe tbody tr th {\n",
       "        vertical-align: top;\n",
       "    }\n",
       "\n",
       "    .dataframe thead th {\n",
       "        text-align: right;\n",
       "    }\n",
       "</style>\n",
       "<table border=\"1\" class=\"dataframe\">\n",
       "  <thead>\n",
       "    <tr style=\"text-align: right;\">\n",
       "      <th></th>\n",
       "      <th>Country</th>\n",
       "      <th>GDP</th>\n",
       "      <th>Life Expectancy</th>\n",
       "      <th>Freedom</th>\n",
       "      <th>Trust Goverment Corruption</th>\n",
       "    </tr>\n",
       "  </thead>\n",
       "  <tbody>\n",
       "    <tr>\n",
       "      <th>31</th>\n",
       "      <td>Thailand</td>\n",
       "      <td>1.127869</td>\n",
       "      <td>0.647239</td>\n",
       "      <td>0.580201</td>\n",
       "      <td>0.031613</td>\n",
       "    </tr>\n",
       "    <tr>\n",
       "      <th>80</th>\n",
       "      <td>Indonesia</td>\n",
       "      <td>0.995539</td>\n",
       "      <td>0.492346</td>\n",
       "      <td>0.443323</td>\n",
       "      <td>0.015317</td>\n",
       "    </tr>\n",
       "    <tr>\n",
       "      <th>41</th>\n",
       "      <td>Malaysia</td>\n",
       "      <td>1.291215</td>\n",
       "      <td>0.618784</td>\n",
       "      <td>0.402265</td>\n",
       "      <td>0.065601</td>\n",
       "    </tr>\n",
       "    <tr>\n",
       "      <th>25</th>\n",
       "      <td>Singapore</td>\n",
       "      <td>1.692278</td>\n",
       "      <td>0.949492</td>\n",
       "      <td>0.549841</td>\n",
       "      <td>0.464308</td>\n",
       "    </tr>\n",
       "    <tr>\n",
       "      <th>93</th>\n",
       "      <td>Vietnam</td>\n",
       "      <td>0.788548</td>\n",
       "      <td>0.652169</td>\n",
       "      <td>0.571056</td>\n",
       "      <td>0.087633</td>\n",
       "    </tr>\n",
       "    <tr>\n",
       "      <th>113</th>\n",
       "      <td>Myanmar</td>\n",
       "      <td>0.367111</td>\n",
       "      <td>0.397523</td>\n",
       "      <td>0.514492</td>\n",
       "      <td>0.188816</td>\n",
       "    </tr>\n",
       "    <tr>\n",
       "      <th>128</th>\n",
       "      <td>Cambodia</td>\n",
       "      <td>0.601765</td>\n",
       "      <td>0.429783</td>\n",
       "      <td>0.633376</td>\n",
       "      <td>0.068106</td>\n",
       "    </tr>\n",
       "  </tbody>\n",
       "</table>\n",
       "</div>"
      ],
      "text/plain": [
       "       Country       GDP  Life Expectancy   Freedom  \\\n",
       "31    Thailand  1.127869         0.647239  0.580201   \n",
       "80   Indonesia  0.995539         0.492346  0.443323   \n",
       "41    Malaysia  1.291215         0.618784  0.402265   \n",
       "25   Singapore  1.692278         0.949492  0.549841   \n",
       "93     Vietnam  0.788548         0.652169  0.571056   \n",
       "113    Myanmar  0.367111         0.397523  0.514492   \n",
       "128   Cambodia  0.601765         0.429783  0.633376   \n",
       "\n",
       "     Trust Goverment Corruption  \n",
       "31                     0.031613  \n",
       "80                     0.015317  \n",
       "41                     0.065601  \n",
       "25                     0.464308  \n",
       "93                     0.087633  \n",
       "113                    0.188816  \n",
       "128                    0.068106  "
      ]
     },
     "execution_count": 143,
     "metadata": {},
     "output_type": "execute_result"
    }
   ],
   "source": [
    "mydata.columns = ['Country', 'Happiness Score', 'GDP', 'Life Expectancy', 'Freedom', 'Trust Goverment Corruption']\n",
    "mydata = mydata.drop(['Happiness Score'], axis=1)\n",
    "mydata"
   ]
  },
  {
   "cell_type": "markdown",
   "metadata": {},
   "source": [
    "plotting into bar chart with pandas and saving figure"
   ]
  },
  {
   "cell_type": "code",
   "execution_count": 158,
   "metadata": {},
   "outputs": [
    {
     "data": {
      "image/png": "[encoded data removed]",
      "text/plain": [
       "<matplotlib.figure.Figure at 0x1d26bdb1080>"
      ]
     },
     "metadata": {},
     "output_type": "display_data"
    }
   ],
   "source": [
    "plot = mydata.plot(kind='bar', x=mydata['Country'], figsize=(10,8)).set_ylabel('Score')\n",
    "fig = plot.get_figure()\n",
    "fig.savefig('../plot.png')"
   ]
  },
  {
   "cell_type": "code",
   "execution_count": null,
   "metadata": {},
   "outputs": [],
   "source": []
  }
 ],
 "metadata": {
  "kernelspec": {
   "display_name": "Python 3",
   "language": "python",
   "name": "python3"
  },
  "language_info": {
   "codemirror_mode": {
    "name": "ipython",
    "version": 3
   },
   "file_extension": ".py",
   "mimetype": "text/x-python",
   "name": "python",
   "nbconvert_exporter": "python",
   "pygments_lexer": "ipython3",
   "version": "3.6.4"
  }
 },
 "nbformat": 4,
 "nbformat_minor": 2
}
